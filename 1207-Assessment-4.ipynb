{
 "cells": [
  {
   "cell_type": "markdown",
   "metadata": {},
   "source": [
    "# 1207 Assessment-4"
   ]
  },
  {
   "cell_type": "markdown",
   "metadata": {},
   "source": [
    "# Introduction"
   ]
  },
  {
   "cell_type": "markdown",
   "metadata": {},
   "source": [
    "In today's digital age, users are often overwhelmed by the sheer number of movie options available and may lack the time or interest to sift through them all.\n",
    "\n",
    "We aim to explore the concept of movie data analysis using a movie dataset. This dataset includes essential information such as movie IDs, titles, release years, durations, user ratings, and the total number of votes. Additionally, it provides genre classifications and language details for each movie. Ratings are typically given on a scale of 1-10, and both movie IDs and user IDs are structured sequentially for easier reference and analysis."
   ]
  },
  {
   "cell_type": "markdown",
   "metadata": {},
   "source": [
    "# importing libraries"
   ]
  },
  {
   "cell_type": "code",
   "execution_count": 1,
   "metadata": {},
   "outputs": [],
   "source": [
    "import pandas as pd \n",
    "import numpy as np \n",
    "import matplotlib.pyplot as plt \n",
    "import seaborn as sns \n"
   ]
  },
  {
   "cell_type": "code",
   "execution_count": 2,
   "metadata": {},
   "outputs": [],
   "source": [
    "movie_data = pd.read_excel(r\"E:\\data science with python & ai\\internship 5-9-24\\1207 Assessment 4\\Assessment 4\\Dataset 1.xlsx\")\n"
   ]
  },
  {
   "cell_type": "markdown",
   "metadata": {},
   "source": [
    "# Task-1\"Understanding the Data\""
   ]
  },
  {
   "cell_type": "markdown",
   "metadata": {},
   "source": [
    "ID: A unique identifier for each movie.\n",
    "Movie Name: The title of the movie.\n",
    "Year: The year the movie was released.\n",
    "Timing (min): The duration of the movie in minutes.\n",
    "Rating (out of 10): The average rating of the movie, likely from user reviews or critics, on a scale of 1 to 10.\n",
    "Votes: The number of votes or reviews the movie has received.\n",
    "Genre: The category or type of movie (e.g., Action, Comedy, Drama).\n",
    "Language: The language in which the movie is primarily spoken (e.g., English, Hindi, French)."
   ]
  },
  {
   "cell_type": "code",
   "execution_count": 3,
   "metadata": {},
   "outputs": [
    {
     "data": {
      "text/html": [
       "<div>\n",
       "<style scoped>\n",
       "    .dataframe tbody tr th:only-of-type {\n",
       "        vertical-align: middle;\n",
       "    }\n",
       "\n",
       "    .dataframe tbody tr th {\n",
       "        vertical-align: top;\n",
       "    }\n",
       "\n",
       "    .dataframe thead th {\n",
       "        text-align: right;\n",
       "    }\n",
       "</style>\n",
       "<table border=\"1\" class=\"dataframe\">\n",
       "  <thead>\n",
       "    <tr style=\"text-align: right;\">\n",
       "      <th></th>\n",
       "      <th>ID</th>\n",
       "      <th>Movie Name</th>\n",
       "      <th>Year</th>\n",
       "      <th>Timing(min)</th>\n",
       "      <th>Rating(10)</th>\n",
       "      <th>Votes</th>\n",
       "      <th>Genre</th>\n",
       "      <th>Language</th>\n",
       "    </tr>\n",
       "  </thead>\n",
       "  <tbody>\n",
       "    <tr>\n",
       "      <th>0</th>\n",
       "      <td>tt0398974</td>\n",
       "      <td>Dr. Shaitan</td>\n",
       "      <td>1960</td>\n",
       "      <td>-</td>\n",
       "      <td>-</td>\n",
       "      <td>-</td>\n",
       "      <td>-</td>\n",
       "      <td>hindi</td>\n",
       "    </tr>\n",
       "    <tr>\n",
       "      <th>1</th>\n",
       "      <td>tt1702558</td>\n",
       "      <td>Nadir Khan</td>\n",
       "      <td>1968</td>\n",
       "      <td>-</td>\n",
       "      <td>-</td>\n",
       "      <td>-</td>\n",
       "      <td>-</td>\n",
       "      <td>urdu</td>\n",
       "    </tr>\n",
       "    <tr>\n",
       "      <th>2</th>\n",
       "      <td>tt0493437</td>\n",
       "      <td>Apna Sapna Money Money</td>\n",
       "      <td>2006</td>\n",
       "      <td>134 min</td>\n",
       "      <td>5.3</td>\n",
       "      <td>1892</td>\n",
       "      <td>Comedy, Musical, Romance</td>\n",
       "      <td>hindi</td>\n",
       "    </tr>\n",
       "    <tr>\n",
       "      <th>3</th>\n",
       "      <td>tt0273405</td>\n",
       "      <td>Aag Aur Sholay</td>\n",
       "      <td>1987</td>\n",
       "      <td>-</td>\n",
       "      <td>2.2</td>\n",
       "      <td>20</td>\n",
       "      <td>-</td>\n",
       "      <td>urdu</td>\n",
       "    </tr>\n",
       "    <tr>\n",
       "      <th>4</th>\n",
       "      <td>tt0049595</td>\n",
       "      <td>Parivar</td>\n",
       "      <td>1956</td>\n",
       "      <td>-</td>\n",
       "      <td>7.4</td>\n",
       "      <td>21</td>\n",
       "      <td>Comedy, Drama, Family</td>\n",
       "      <td>hindi</td>\n",
       "    </tr>\n",
       "  </tbody>\n",
       "</table>\n",
       "</div>"
      ],
      "text/plain": [
       "          ID              Movie Name  Year Timing(min) Rating(10) Votes  \\\n",
       "0  tt0398974             Dr. Shaitan  1960           -          -     -   \n",
       "1  tt1702558              Nadir Khan  1968           -          -     -   \n",
       "2  tt0493437  Apna Sapna Money Money  2006     134 min        5.3  1892   \n",
       "3  tt0273405          Aag Aur Sholay  1987           -        2.2    20   \n",
       "4  tt0049595                 Parivar  1956           -        7.4    21   \n",
       "\n",
       "                                  Genre Language  \n",
       "0                                     -    hindi  \n",
       "1                                     -     urdu  \n",
       "2  Comedy, Musical, Romance                hindi  \n",
       "3                                     -     urdu  \n",
       "4     Comedy, Drama, Family                hindi  "
      ]
     },
     "execution_count": 3,
     "metadata": {},
     "output_type": "execute_result"
    }
   ],
   "source": [
    "movie_data.head() "
   ]
  },
  {
   "cell_type": "markdown",
   "metadata": {},
   "source": [
    "check the size of movie_data"
   ]
  },
  {
   "cell_type": "code",
   "execution_count": 4,
   "metadata": {},
   "outputs": [
    {
     "data": {
      "text/plain": [
       "(50602, 8)"
      ]
     },
     "execution_count": 4,
     "metadata": {},
     "output_type": "execute_result"
    }
   ],
   "source": [
    "movie_data.shape"
   ]
  },
  {
   "cell_type": "markdown",
   "metadata": {},
   "source": [
    "check columns name "
   ]
  },
  {
   "cell_type": "code",
   "execution_count": 5,
   "metadata": {},
   "outputs": [
    {
     "data": {
      "text/plain": [
       "Index(['ID', 'Movie Name', 'Year', 'Timing(min)', 'Rating(10)', 'Votes',\n",
       "       'Genre', 'Language'],\n",
       "      dtype='object')"
      ]
     },
     "execution_count": 5,
     "metadata": {},
     "output_type": "execute_result"
    }
   ],
   "source": [
    "movie_data.columns"
   ]
  },
  {
   "cell_type": "markdown",
   "metadata": {},
   "source": [
    "basic information about movie_data"
   ]
  },
  {
   "cell_type": "code",
   "execution_count": 6,
   "metadata": {},
   "outputs": [
    {
     "name": "stdout",
     "output_type": "stream",
     "text": [
      "<class 'pandas.core.frame.DataFrame'>\n",
      "RangeIndex: 50602 entries, 0 to 50601\n",
      "Data columns (total 8 columns):\n",
      " #   Column       Non-Null Count  Dtype \n",
      "---  ------       --------------  ----- \n",
      " 0   ID           50602 non-null  object\n",
      " 1   Movie Name   50601 non-null  object\n",
      " 2   Year         49041 non-null  object\n",
      " 3   Timing(min)  50602 non-null  object\n",
      " 4   Rating(10)   50602 non-null  object\n",
      " 5   Votes        50602 non-null  object\n",
      " 6   Genre        50602 non-null  object\n",
      " 7   Language     50602 non-null  object\n",
      "dtypes: object(8)\n",
      "memory usage: 3.1+ MB\n"
     ]
    }
   ],
   "source": [
    "movie_data.info()"
   ]
  },
  {
   "cell_type": "markdown",
   "metadata": {},
   "source": [
    "describe the movie_data"
   ]
  },
  {
   "cell_type": "code",
   "execution_count": 7,
   "metadata": {},
   "outputs": [
    {
     "data": {
      "text/html": [
       "<div>\n",
       "<style scoped>\n",
       "    .dataframe tbody tr th:only-of-type {\n",
       "        vertical-align: middle;\n",
       "    }\n",
       "\n",
       "    .dataframe tbody tr th {\n",
       "        vertical-align: top;\n",
       "    }\n",
       "\n",
       "    .dataframe thead th {\n",
       "        text-align: right;\n",
       "    }\n",
       "</style>\n",
       "<table border=\"1\" class=\"dataframe\">\n",
       "  <thead>\n",
       "    <tr style=\"text-align: right;\">\n",
       "      <th></th>\n",
       "      <th>ID</th>\n",
       "      <th>Movie Name</th>\n",
       "      <th>Year</th>\n",
       "      <th>Timing(min)</th>\n",
       "      <th>Rating(10)</th>\n",
       "      <th>Votes</th>\n",
       "      <th>Genre</th>\n",
       "      <th>Language</th>\n",
       "    </tr>\n",
       "  </thead>\n",
       "  <tbody>\n",
       "    <tr>\n",
       "      <th>count</th>\n",
       "      <td>50602</td>\n",
       "      <td>50601</td>\n",
       "      <td>49041</td>\n",
       "      <td>50602</td>\n",
       "      <td>50602</td>\n",
       "      <td>50602</td>\n",
       "      <td>50602</td>\n",
       "      <td>50602</td>\n",
       "    </tr>\n",
       "    <tr>\n",
       "      <th>unique</th>\n",
       "      <td>46106</td>\n",
       "      <td>42440</td>\n",
       "      <td>579</td>\n",
       "      <td>259</td>\n",
       "      <td>92</td>\n",
       "      <td>2951</td>\n",
       "      <td>718</td>\n",
       "      <td>19</td>\n",
       "    </tr>\n",
       "    <tr>\n",
       "      <th>top</th>\n",
       "      <td>-</td>\n",
       "      <td>Alif Laila</td>\n",
       "      <td>2018</td>\n",
       "      <td>-</td>\n",
       "      <td>-</td>\n",
       "      <td>-</td>\n",
       "      <td>Drama</td>\n",
       "      <td>hindi</td>\n",
       "    </tr>\n",
       "    <tr>\n",
       "      <th>freq</th>\n",
       "      <td>2508</td>\n",
       "      <td>167</td>\n",
       "      <td>1934</td>\n",
       "      <td>25892</td>\n",
       "      <td>26926</td>\n",
       "      <td>26925</td>\n",
       "      <td>13529</td>\n",
       "      <td>14350</td>\n",
       "    </tr>\n",
       "  </tbody>\n",
       "</table>\n",
       "</div>"
      ],
      "text/plain": [
       "           ID   Movie Name   Year Timing(min) Rating(10)  Votes  \\\n",
       "count   50602        50601  49041       50602      50602  50602   \n",
       "unique  46106        42440    579         259         92   2951   \n",
       "top         -   Alif Laila   2018           -          -      -   \n",
       "freq     2508          167   1934       25892      26926  26925   \n",
       "\n",
       "                    Genre Language  \n",
       "count               50602    50602  \n",
       "unique                718       19  \n",
       "top     Drama                hindi  \n",
       "freq                13529    14350  "
      ]
     },
     "execution_count": 7,
     "metadata": {},
     "output_type": "execute_result"
    }
   ],
   "source": [
    "movie_data.describe() "
   ]
  },
  {
   "cell_type": "markdown",
   "metadata": {},
   "source": [
    "check duplicates value in movie_data "
   ]
  },
  {
   "cell_type": "code",
   "execution_count": 8,
   "metadata": {},
   "outputs": [
    {
     "data": {
      "text/plain": [
       "np.int64(0)"
      ]
     },
     "execution_count": 8,
     "metadata": {},
     "output_type": "execute_result"
    }
   ],
   "source": [
    "movie_data.duplicated().sum() "
   ]
  },
  {
   "cell_type": "markdown",
   "metadata": {},
   "source": [
    "# Task-2 Data Cleaning"
   ]
  },
  {
   "cell_type": "markdown",
   "metadata": {},
   "source": [
    "# check missing values"
   ]
  },
  {
   "cell_type": "code",
   "execution_count": 9,
   "metadata": {},
   "outputs": [
    {
     "data": {
      "text/plain": [
       "ID                0\n",
       "Movie Name        1\n",
       "Year           1561\n",
       "Timing(min)       0\n",
       "Rating(10)        0\n",
       "Votes             0\n",
       "Genre             0\n",
       "Language          0\n",
       "dtype: int64"
      ]
     },
     "execution_count": 9,
     "metadata": {},
     "output_type": "execute_result"
    }
   ],
   "source": [
    "movie_data.isnull().sum() "
   ]
  },
  {
   "cell_type": "markdown",
   "metadata": {},
   "source": [
    "convert into numeric format "
   ]
  },
  {
   "cell_type": "code",
   "execution_count": 10,
   "metadata": {},
   "outputs": [
    {
     "data": {
      "text/plain": [
       "0        1960.0\n",
       "1        1968.0\n",
       "2        2006.0\n",
       "3        1987.0\n",
       "4        1956.0\n",
       "          ...  \n",
       "50597    1984.0\n",
       "50598    1971.0\n",
       "50599    1936.0\n",
       "50600    1990.0\n",
       "50601    2009.0\n",
       "Name: Year, Length: 50602, dtype: float64"
      ]
     },
     "execution_count": 10,
     "metadata": {},
     "output_type": "execute_result"
    }
   ],
   "source": [
    "movie_data[\"Year\"] = pd.to_numeric(movie_data[\"Year\"],errors=\"coerce\")\n",
    "movie_data[\"Year\"] "
   ]
  },
  {
   "cell_type": "markdown",
   "metadata": {},
   "source": [
    "remove missing value in Year column"
   ]
  },
  {
   "cell_type": "code",
   "execution_count": 11,
   "metadata": {},
   "outputs": [],
   "source": [
    "movie_data.fillna(movie_data[\"Year\"].median(),inplace=True) "
   ]
  },
  {
   "cell_type": "markdown",
   "metadata": {},
   "source": [
    "check again missing values "
   ]
  },
  {
   "cell_type": "code",
   "execution_count": 12,
   "metadata": {},
   "outputs": [
    {
     "data": {
      "text/plain": [
       "ID             0\n",
       "Movie Name     0\n",
       "Year           0\n",
       "Timing(min)    0\n",
       "Rating(10)     0\n",
       "Votes          0\n",
       "Genre          0\n",
       "Language       0\n",
       "dtype: int64"
      ]
     },
     "execution_count": 12,
     "metadata": {},
     "output_type": "execute_result"
    }
   ],
   "source": [
    "movie_data.isnull().sum() "
   ]
  },
  {
   "cell_type": "markdown",
   "metadata": {},
   "source": [
    "# check data type & convert it "
   ]
  },
  {
   "cell_type": "code",
   "execution_count": 13,
   "metadata": {},
   "outputs": [
    {
     "data": {
      "text/plain": [
       "ID              object\n",
       "Movie Name      object\n",
       "Year           float64\n",
       "Timing(min)     object\n",
       "Rating(10)      object\n",
       "Votes           object\n",
       "Genre           object\n",
       "Language        object\n",
       "dtype: object"
      ]
     },
     "execution_count": 13,
     "metadata": {},
     "output_type": "execute_result"
    }
   ],
   "source": [
    "movie_data.dtypes"
   ]
  },
  {
   "cell_type": "code",
   "execution_count": 14,
   "metadata": {},
   "outputs": [
    {
     "data": {
      "text/plain": [
       "0        1960\n",
       "1        1968\n",
       "2        2006\n",
       "3        1987\n",
       "4        1956\n",
       "         ... \n",
       "50597    1984\n",
       "50598    1971\n",
       "50599    1936\n",
       "50600    1990\n",
       "50601    2009\n",
       "Name: Year, Length: 50602, dtype: Int64"
      ]
     },
     "execution_count": 14,
     "metadata": {},
     "output_type": "execute_result"
    }
   ],
   "source": [
    "movie_data_year = movie_data[\"Year\"].astype(\"Int64\") \n",
    "movie_data_year "
   ]
  },
  {
   "cell_type": "code",
   "execution_count": 15,
   "metadata": {},
   "outputs": [
    {
     "data": {
      "text/plain": [
       "0       1970-01-01 00:00:00.000001960\n",
       "1       1970-01-01 00:00:00.000001968\n",
       "2       1970-01-01 00:00:00.000002006\n",
       "3       1970-01-01 00:00:00.000001987\n",
       "4       1970-01-01 00:00:00.000001956\n",
       "                     ...             \n",
       "50597   1970-01-01 00:00:00.000001984\n",
       "50598   1970-01-01 00:00:00.000001971\n",
       "50599   1970-01-01 00:00:00.000001936\n",
       "50600   1970-01-01 00:00:00.000001990\n",
       "50601   1970-01-01 00:00:00.000002009\n",
       "Name: Year, Length: 50602, dtype: datetime64[ns]"
      ]
     },
     "execution_count": 15,
     "metadata": {},
     "output_type": "execute_result"
    }
   ],
   "source": [
    "movie_data_year_datetime = pd.to_datetime(movie_data[\"Year\"],errors=\"coerce\")\n",
    "movie_data_year_datetime "
   ]
  },
  {
   "cell_type": "code",
   "execution_count": 16,
   "metadata": {},
   "outputs": [
    {
     "data": {
      "text/plain": [
       "0            NaN\n",
       "1            NaN\n",
       "2        134 min\n",
       "3            NaN\n",
       "4            NaN\n",
       "          ...   \n",
       "50597        NaN\n",
       "50598    107 min\n",
       "50599    120 min\n",
       "50600    133 min\n",
       "50601        NaN\n",
       "Name: Timing(min), Length: 50602, dtype: object"
      ]
     },
     "execution_count": 16,
     "metadata": {},
     "output_type": "execute_result"
    }
   ],
   "source": [
    "movie_data[\"Timing(min)\"] = movie_data[\"Timing(min)\"].replace(\"-\",np.nan)\n",
    "movie_data[\"Timing(min)\"] "
   ]
  },
  {
   "cell_type": "code",
   "execution_count": 17,
   "metadata": {},
   "outputs": [
    {
     "data": {
      "text/plain": [
       "0       NaN\n",
       "1       NaN\n",
       "2       NaN\n",
       "3       NaN\n",
       "4       NaN\n",
       "         ..\n",
       "50597   NaN\n",
       "50598   NaN\n",
       "50599   NaN\n",
       "50600   NaN\n",
       "50601   NaN\n",
       "Name: Timing(min), Length: 50602, dtype: float64"
      ]
     },
     "execution_count": 17,
     "metadata": {},
     "output_type": "execute_result"
    }
   ],
   "source": [
    "movie_data_numeric =pd.to_numeric(movie_data[\"Timing(min)\"],errors=\"coerce\") \n",
    "movie_data_numeric "
   ]
  },
  {
   "cell_type": "code",
   "execution_count": 18,
   "metadata": {},
   "outputs": [
    {
     "data": {
      "text/plain": [
       "0        <NA>\n",
       "1        <NA>\n",
       "2        <NA>\n",
       "3        <NA>\n",
       "4        <NA>\n",
       "         ... \n",
       "50597    <NA>\n",
       "50598    <NA>\n",
       "50599    <NA>\n",
       "50600    <NA>\n",
       "50601    <NA>\n",
       "Name: Timing(min), Length: 50602, dtype: Int64"
      ]
     },
     "execution_count": 18,
     "metadata": {},
     "output_type": "execute_result"
    }
   ],
   "source": [
    "movie_data_timing = movie_data_numeric.astype('Int64') \n",
    "movie_data_timing "
   ]
  },
  {
   "cell_type": "code",
   "execution_count": 19,
   "metadata": {},
   "outputs": [
    {
     "data": {
      "text/plain": [
       "0        NaN\n",
       "1        NaN\n",
       "2        5.3\n",
       "3        2.2\n",
       "4        7.4\n",
       "        ... \n",
       "50597    NaN\n",
       "50598    NaN\n",
       "50599    NaN\n",
       "50600    NaN\n",
       "50601    NaN\n",
       "Name: Rating(10), Length: 50602, dtype: float64"
      ]
     },
     "execution_count": 19,
     "metadata": {},
     "output_type": "execute_result"
    }
   ],
   "source": [
    "movie_data_rating_numeric = pd.to_numeric(movie_data[\"Rating(10)\"],errors=\"coerce\") \n",
    "movie_data_rating_numeric   "
   ]
  },
  {
   "cell_type": "code",
   "execution_count": 20,
   "metadata": {},
   "outputs": [
    {
     "data": {
      "text/plain": [
       "0        NaN\n",
       "1        NaN\n",
       "2        5.3\n",
       "3        2.2\n",
       "4        7.4\n",
       "        ... \n",
       "50597    NaN\n",
       "50598    NaN\n",
       "50599    NaN\n",
       "50600    NaN\n",
       "50601    NaN\n",
       "Name: Rating(10), Length: 50602, dtype: float64"
      ]
     },
     "execution_count": 20,
     "metadata": {},
     "output_type": "execute_result"
    }
   ],
   "source": [
    "movie_data_ratings = movie_data_rating_numeric.astype(\"float\") \n",
    "movie_data_ratings  "
   ]
  },
  {
   "cell_type": "code",
   "execution_count": 21,
   "metadata": {},
   "outputs": [
    {
     "data": {
      "text/plain": [
       "0        NaN\n",
       "1        NaN\n",
       "2        5.3\n",
       "3        2.2\n",
       "4        7.4\n",
       "        ... \n",
       "50597    NaN\n",
       "50598    NaN\n",
       "50599    NaN\n",
       "50600    NaN\n",
       "50601    NaN\n",
       "Name: Rating(10), Length: 50602, dtype: float64"
      ]
     },
     "execution_count": 21,
     "metadata": {},
     "output_type": "execute_result"
    }
   ],
   "source": [
    "movie_data_ratings.replace(\"-\",np.nan) "
   ]
  },
  {
   "cell_type": "code",
   "execution_count": 22,
   "metadata": {},
   "outputs": [
    {
     "data": {
      "text/plain": [
       "0         NaN\n",
       "1         NaN\n",
       "2        1892\n",
       "3          20\n",
       "4          21\n",
       "         ... \n",
       "50597     NaN\n",
       "50598     NaN\n",
       "50599     NaN\n",
       "50600     NaN\n",
       "50601     NaN\n",
       "Name: Votes, Length: 50602, dtype: object"
      ]
     },
     "execution_count": 22,
     "metadata": {},
     "output_type": "execute_result"
    }
   ],
   "source": [
    "movie_data[\"Votes\"] = movie_data[\"Votes\"].replace(\"-\",np.nan) \n",
    "movie_data[\"Votes\"] "
   ]
  },
  {
   "cell_type": "code",
   "execution_count": 23,
   "metadata": {},
   "outputs": [
    {
     "data": {
      "text/plain": [
       "0           NaN\n",
       "1           NaN\n",
       "2        1892.0\n",
       "3          20.0\n",
       "4          21.0\n",
       "          ...  \n",
       "50597       NaN\n",
       "50598       NaN\n",
       "50599       NaN\n",
       "50600       NaN\n",
       "50601       NaN\n",
       "Name: Votes, Length: 50602, dtype: float64"
      ]
     },
     "execution_count": 23,
     "metadata": {},
     "output_type": "execute_result"
    }
   ],
   "source": [
    "movie_data_votes_numeric = pd.to_numeric(movie_data[\"Votes\"],errors=\"coerce\")\n",
    "movie_data_votes_numeric  "
   ]
  },
  {
   "cell_type": "code",
   "execution_count": 24,
   "metadata": {},
   "outputs": [
    {
     "data": {
      "text/plain": [
       "0        <NA>\n",
       "1        <NA>\n",
       "2        1892\n",
       "3          20\n",
       "4          21\n",
       "         ... \n",
       "50597    <NA>\n",
       "50598    <NA>\n",
       "50599    <NA>\n",
       "50600    <NA>\n",
       "50601    <NA>\n",
       "Name: Votes, Length: 50602, dtype: Int64"
      ]
     },
     "execution_count": 24,
     "metadata": {},
     "output_type": "execute_result"
    }
   ],
   "source": [
    "movie_data_votes = movie_data_votes_numeric.astype('Int64') \n",
    "movie_data_votes "
   ]
  },
  {
   "cell_type": "code",
   "execution_count": 25,
   "metadata": {},
   "outputs": [],
   "source": [
    "movie_data.to_excel(\"movie_data.xlsx\",index=False)"
   ]
  },
  {
   "cell_type": "code",
   "execution_count": 26,
   "metadata": {},
   "outputs": [
    {
     "data": {
      "text/html": [
       "<div>\n",
       "<style scoped>\n",
       "    .dataframe tbody tr th:only-of-type {\n",
       "        vertical-align: middle;\n",
       "    }\n",
       "\n",
       "    .dataframe tbody tr th {\n",
       "        vertical-align: top;\n",
       "    }\n",
       "\n",
       "    .dataframe thead th {\n",
       "        text-align: right;\n",
       "    }\n",
       "</style>\n",
       "<table border=\"1\" class=\"dataframe\">\n",
       "  <thead>\n",
       "    <tr style=\"text-align: right;\">\n",
       "      <th></th>\n",
       "      <th>ID</th>\n",
       "      <th>Movie Name</th>\n",
       "      <th>Year</th>\n",
       "      <th>Timing(min)</th>\n",
       "      <th>Rating(10)</th>\n",
       "      <th>Votes</th>\n",
       "      <th>Genre</th>\n",
       "      <th>Language</th>\n",
       "    </tr>\n",
       "  </thead>\n",
       "  <tbody>\n",
       "    <tr>\n",
       "      <th>0</th>\n",
       "      <td>tt0398974</td>\n",
       "      <td>Dr. Shaitan</td>\n",
       "      <td>1960.0</td>\n",
       "      <td>NaN</td>\n",
       "      <td>-</td>\n",
       "      <td>NaN</td>\n",
       "      <td>-</td>\n",
       "      <td>hindi</td>\n",
       "    </tr>\n",
       "    <tr>\n",
       "      <th>1</th>\n",
       "      <td>tt1702558</td>\n",
       "      <td>Nadir Khan</td>\n",
       "      <td>1968.0</td>\n",
       "      <td>NaN</td>\n",
       "      <td>-</td>\n",
       "      <td>NaN</td>\n",
       "      <td>-</td>\n",
       "      <td>urdu</td>\n",
       "    </tr>\n",
       "    <tr>\n",
       "      <th>2</th>\n",
       "      <td>tt0493437</td>\n",
       "      <td>Apna Sapna Money Money</td>\n",
       "      <td>2006.0</td>\n",
       "      <td>134 min</td>\n",
       "      <td>5.3</td>\n",
       "      <td>1892</td>\n",
       "      <td>Comedy, Musical, Romance</td>\n",
       "      <td>hindi</td>\n",
       "    </tr>\n",
       "    <tr>\n",
       "      <th>3</th>\n",
       "      <td>tt0273405</td>\n",
       "      <td>Aag Aur Sholay</td>\n",
       "      <td>1987.0</td>\n",
       "      <td>NaN</td>\n",
       "      <td>2.2</td>\n",
       "      <td>20</td>\n",
       "      <td>-</td>\n",
       "      <td>urdu</td>\n",
       "    </tr>\n",
       "    <tr>\n",
       "      <th>4</th>\n",
       "      <td>tt0049595</td>\n",
       "      <td>Parivar</td>\n",
       "      <td>1956.0</td>\n",
       "      <td>NaN</td>\n",
       "      <td>7.4</td>\n",
       "      <td>21</td>\n",
       "      <td>Comedy, Drama, Family</td>\n",
       "      <td>hindi</td>\n",
       "    </tr>\n",
       "  </tbody>\n",
       "</table>\n",
       "</div>"
      ],
      "text/plain": [
       "          ID              Movie Name    Year Timing(min) Rating(10) Votes  \\\n",
       "0  tt0398974             Dr. Shaitan  1960.0         NaN          -   NaN   \n",
       "1  tt1702558              Nadir Khan  1968.0         NaN          -   NaN   \n",
       "2  tt0493437  Apna Sapna Money Money  2006.0     134 min        5.3  1892   \n",
       "3  tt0273405          Aag Aur Sholay  1987.0         NaN        2.2    20   \n",
       "4  tt0049595                 Parivar  1956.0         NaN        7.4    21   \n",
       "\n",
       "                                  Genre Language  \n",
       "0                                     -    hindi  \n",
       "1                                     -     urdu  \n",
       "2  Comedy, Musical, Romance                hindi  \n",
       "3                                     -     urdu  \n",
       "4     Comedy, Drama, Family                hindi  "
      ]
     },
     "execution_count": 26,
     "metadata": {},
     "output_type": "execute_result"
    }
   ],
   "source": [
    "movie_data.head() "
   ]
  },
  {
   "cell_type": "markdown",
   "metadata": {},
   "source": [
    "# Task-3 Univariate Analysis"
   ]
  },
  {
   "cell_type": "markdown",
   "metadata": {},
   "source": [
    "Analyze the distribution of ratings"
   ]
  },
  {
   "cell_type": "code",
   "execution_count": 27,
   "metadata": {},
   "outputs": [
    {
     "data": {
      "text/plain": [
       "np.float64(6.27478459199189)"
      ]
     },
     "execution_count": 27,
     "metadata": {},
     "output_type": "execute_result"
    }
   ],
   "source": [
    "average_rating = movie_data_ratings.mean()\n",
    "average_rating "
   ]
  },
  {
   "cell_type": "code",
   "execution_count": 28,
   "metadata": {},
   "outputs": [
    {
     "data": {
      "text/plain": [
       "7812     10.0\n",
       "23850    10.0\n",
       "23887    10.0\n",
       "30151    10.0\n",
       "31301    10.0\n",
       "32076    10.0\n",
       "34577    10.0\n",
       "39105    10.0\n",
       "42441    10.0\n",
       "729       9.9\n",
       "Name: Rating(10), dtype: float64"
      ]
     },
     "execution_count": 28,
     "metadata": {},
     "output_type": "execute_result"
    }
   ],
   "source": [
    "highest_rating = movie_data_ratings.nlargest(10) \n",
    "highest_rating"
   ]
  },
  {
   "cell_type": "code",
   "execution_count": 29,
   "metadata": {},
   "outputs": [
    {
     "data": {
      "text/plain": [
       "8409     1.0\n",
       "14081    1.0\n",
       "38173    1.0\n",
       "23751    1.1\n",
       "27202    1.1\n",
       "Name: Rating(10), dtype: float64"
      ]
     },
     "execution_count": 29,
     "metadata": {},
     "output_type": "execute_result"
    }
   ],
   "source": [
    "smallest_rating = movie_data_ratings.nsmallest(5) \n",
    "smallest_rating "
   ]
  },
  {
   "cell_type": "markdown",
   "metadata": {},
   "source": [
    "Calculate the most common rating given by users"
   ]
  },
  {
   "cell_type": "code",
   "execution_count": 30,
   "metadata": {},
   "outputs": [],
   "source": [
    "movie_data['Rating(10)'] = pd.to_numeric(movie_data['Rating(10)'], errors='coerce')"
   ]
  },
  {
   "cell_type": "code",
   "execution_count": 31,
   "metadata": {},
   "outputs": [
    {
     "name": "stdout",
     "output_type": "stream",
     "text": [
      "The most common rating given by users is: 7.2\n"
     ]
    }
   ],
   "source": [
    "most_common_rating = movie_data['Rating(10)'].mode().iloc[0]\n",
    "print(f\"The most common rating given by users is: {most_common_rating}\")"
   ]
  },
  {
   "cell_type": "markdown",
   "metadata": {},
   "source": [
    "Analyze the genre distribution (if the dataset contains genres)"
   ]
  },
  {
   "cell_type": "code",
   "execution_count": 32,
   "metadata": {},
   "outputs": [
    {
     "data": {
      "text/plain": [
       "Genre\n",
       "Drama                                       13529\n",
       "-                                            8581\n",
       "Action                                       2464\n",
       "Comedy                                       2172\n",
       "Romance                                      2032\n",
       "                                            ...  \n",
       "Action, Adventure, Biography                    1\n",
       "Adventure, Musical                              1\n",
       "Horror, Fantasy                                 1\n",
       "Musical, Action, Thriller                       1\n",
       "Crime, Musical, Romance                         1\n",
       "Name: count, Length: 718, dtype: int64"
      ]
     },
     "execution_count": 32,
     "metadata": {},
     "output_type": "execute_result"
    }
   ],
   "source": [
    "genre_count = movie_data[\"Genre\"].value_counts()\n",
    "genre_count \n"
   ]
  },
  {
   "cell_type": "markdown",
   "metadata": {},
   "source": [
    "\n",
    "# Task 5 Popular Movies and Trends:\n"
   ]
  },
  {
   "cell_type": "markdown",
   "metadata": {},
   "source": [
    "Identify the top 10 highest-rated movies."
   ]
  },
  {
   "cell_type": "code",
   "execution_count": 33,
   "metadata": {},
   "outputs": [
    {
     "name": "stdout",
     "output_type": "stream",
     "text": [
      "                     Movie Name  Rating(10) Votes\n",
      "32076   Ashi Fasli Nanachi Tang        10.0     5\n",
      "42441                     Antak        10.0     7\n",
      "39105                   Harsukh        10.0     9\n",
      "7812                    Ilu-Ilu        10.0     5\n",
      "23850             Bihari Binani        10.0     6\n",
      "23887  Marasim - Beyond Borders        10.0    37\n",
      "31301                   Harsukh        10.0     9\n",
      "34577  An Extraordinary Journey        10.0     5\n",
      "30151  Marasim - Beyond Borders        10.0    37\n",
      "12028      The Invisible Humans         9.9     8\n"
     ]
    }
   ],
   "source": [
    "top_10_rated_movies = movie_data[['Movie Name', 'Rating(10)', 'Votes']].sort_values(by='Rating(10)', ascending=False).head(10)\n",
    "print(top_10_rated_movies)"
   ]
  },
  {
   "cell_type": "markdown",
   "metadata": {},
   "source": [
    "Find the top 10 most-watched movies (by the number of ratings). "
   ]
  },
  {
   "cell_type": "code",
   "execution_count": 34,
   "metadata": {},
   "outputs": [],
   "source": [
    "movie_data['Votes'] = pd.to_numeric(movie_data['Votes'], errors='coerce')"
   ]
  },
  {
   "cell_type": "code",
   "execution_count": 35,
   "metadata": {},
   "outputs": [
    {
     "name": "stdout",
     "output_type": "stream",
     "text": [
      "                                          Movie Name  Rating(10)     Votes\n",
      "13822                                       Iron Man         7.9  954861.0\n",
      "471                                         Iron Man         7.9  954861.0\n",
      "26732  Indiana Jones and the Raiders of the Lost Ark         8.4  894336.0\n",
      "11493      Star Wars: Episode I - The Phantom Menace         6.5  740452.0\n",
      "35212                                       3 Idiots         8.4  351187.0\n",
      "37398                               Zero Dark Thirty         7.4  275912.0\n",
      "26330                               Zero Dark Thirty         7.4  275912.0\n",
      "31892                                The Jungle Book         7.4  261319.0\n",
      "2122                                 The Jungle Book         7.4  261319.0\n",
      "48147                                The Jungle Book         7.4  261319.0\n"
     ]
    }
   ],
   "source": [
    "top_10_most_watched_movies = movie_data[['Movie Name', 'Rating(10)', 'Votes']].sort_values(by='Votes', ascending=False).head(10)\n",
    "print(top_10_most_watched_movies)"
   ]
  },
  {
   "cell_type": "markdown",
   "metadata": {},
   "source": [
    "  Explore if certain movie genres have higher average ratings."
   ]
  },
  {
   "cell_type": "code",
   "execution_count": 36,
   "metadata": {},
   "outputs": [
    {
     "name": "stdout",
     "output_type": "stream",
     "text": [
      "Genre\n",
      "Short, Action, Adventure                    9.7\n",
      "Short, Biography, Drama                     9.4\n",
      "Animation, Short, Music                     9.2\n",
      "Documentary, Musical                        9.2\n",
      "Documentary, Family, Musical                9.0\n",
      "Documentary, Biography, War                 9.0\n",
      "Short, Adventure, Drama                     9.0\n",
      "Comedy, Talk-Show                           9.0\n",
      "Drama, Documentary, Mystery                 8.9\n",
      "Documentary, Short, Family                  8.9\n",
      "Name: Rating(10), dtype: float64\n"
     ]
    }
   ],
   "source": [
    "average_rating_by_genre = movie_data.groupby('Genre')['Rating(10)'].mean().sort_values(ascending=False)\n",
    "print(average_rating_by_genre.head(10))"
   ]
  },
  {
   "cell_type": "markdown",
   "metadata": {},
   "source": [
    "# Task 6 Time-Based Analysis:\n"
   ]
  },
  {
   "cell_type": "markdown",
   "metadata": {},
   "source": [
    "Perform an analysis to see how ratings have changed over time (using the timestamp)."
   ]
  },
  {
   "cell_type": "code",
   "execution_count": 37,
   "metadata": {},
   "outputs": [
    {
     "data": {
      "text/html": [
       "<div>\n",
       "<style scoped>\n",
       "    .dataframe tbody tr th:only-of-type {\n",
       "        vertical-align: middle;\n",
       "    }\n",
       "\n",
       "    .dataframe tbody tr th {\n",
       "        vertical-align: top;\n",
       "    }\n",
       "\n",
       "    .dataframe thead th {\n",
       "        text-align: right;\n",
       "    }\n",
       "</style>\n",
       "<table border=\"1\" class=\"dataframe\">\n",
       "  <thead>\n",
       "    <tr style=\"text-align: right;\">\n",
       "      <th></th>\n",
       "      <th>ID</th>\n",
       "      <th>Movie Name</th>\n",
       "      <th>Year</th>\n",
       "      <th>Timing(min)</th>\n",
       "      <th>Rating(10)</th>\n",
       "      <th>Votes</th>\n",
       "      <th>Genre</th>\n",
       "      <th>Language</th>\n",
       "    </tr>\n",
       "  </thead>\n",
       "  <tbody>\n",
       "    <tr>\n",
       "      <th>2</th>\n",
       "      <td>tt0493437</td>\n",
       "      <td>Apna Sapna Money Money</td>\n",
       "      <td>2006.0</td>\n",
       "      <td>134 min</td>\n",
       "      <td>5.3</td>\n",
       "      <td>1892.0</td>\n",
       "      <td>Comedy, Musical, Romance</td>\n",
       "      <td>hindi</td>\n",
       "    </tr>\n",
       "    <tr>\n",
       "      <th>3</th>\n",
       "      <td>tt0273405</td>\n",
       "      <td>Aag Aur Sholay</td>\n",
       "      <td>1987.0</td>\n",
       "      <td>NaN</td>\n",
       "      <td>2.2</td>\n",
       "      <td>20.0</td>\n",
       "      <td>-</td>\n",
       "      <td>urdu</td>\n",
       "    </tr>\n",
       "    <tr>\n",
       "      <th>4</th>\n",
       "      <td>tt0049595</td>\n",
       "      <td>Parivar</td>\n",
       "      <td>1956.0</td>\n",
       "      <td>NaN</td>\n",
       "      <td>7.4</td>\n",
       "      <td>21.0</td>\n",
       "      <td>Comedy, Drama, Family</td>\n",
       "      <td>hindi</td>\n",
       "    </tr>\n",
       "    <tr>\n",
       "      <th>6</th>\n",
       "      <td>tt6597160</td>\n",
       "      <td>Jacqueline I Am Coming</td>\n",
       "      <td>2019.0</td>\n",
       "      <td>112 min</td>\n",
       "      <td>7.9</td>\n",
       "      <td>16.0</td>\n",
       "      <td>Drama</td>\n",
       "      <td>hindi</td>\n",
       "    </tr>\n",
       "    <tr>\n",
       "      <th>7</th>\n",
       "      <td>tt0829459</td>\n",
       "      <td>A Mighty Heart</td>\n",
       "      <td>2007.0</td>\n",
       "      <td>108 min</td>\n",
       "      <td>6.6</td>\n",
       "      <td>26885.0</td>\n",
       "      <td>Biography, Drama, History</td>\n",
       "      <td>urdu</td>\n",
       "    </tr>\n",
       "    <tr>\n",
       "      <th>...</th>\n",
       "      <td>...</td>\n",
       "      <td>...</td>\n",
       "      <td>...</td>\n",
       "      <td>...</td>\n",
       "      <td>...</td>\n",
       "      <td>...</td>\n",
       "      <td>...</td>\n",
       "      <td>...</td>\n",
       "    </tr>\n",
       "    <tr>\n",
       "      <th>50587</th>\n",
       "      <td>tt0231191</td>\n",
       "      <td>Atal Jaler Ahwan</td>\n",
       "      <td>1962.0</td>\n",
       "      <td>NaN</td>\n",
       "      <td>6.6</td>\n",
       "      <td>14.0</td>\n",
       "      <td>Drama</td>\n",
       "      <td>bengali</td>\n",
       "    </tr>\n",
       "    <tr>\n",
       "      <th>50591</th>\n",
       "      <td>tt0248201</td>\n",
       "      <td>Mudhal Thedi</td>\n",
       "      <td>1955.0</td>\n",
       "      <td>145 min</td>\n",
       "      <td>6.8</td>\n",
       "      <td>12.0</td>\n",
       "      <td>-</td>\n",
       "      <td>tamil</td>\n",
       "    </tr>\n",
       "    <tr>\n",
       "      <th>50592</th>\n",
       "      <td>tt6836936</td>\n",
       "      <td>Saaho</td>\n",
       "      <td>2019.0</td>\n",
       "      <td>170 min</td>\n",
       "      <td>5.2</td>\n",
       "      <td>16102.0</td>\n",
       "      <td>Action, Thriller</td>\n",
       "      <td>telugu</td>\n",
       "    </tr>\n",
       "    <tr>\n",
       "      <th>50594</th>\n",
       "      <td>tt0073191</td>\n",
       "      <td>Jai Santoshi Maa</td>\n",
       "      <td>1975.0</td>\n",
       "      <td>145 min</td>\n",
       "      <td>6.3</td>\n",
       "      <td>114.0</td>\n",
       "      <td>Drama, Fantasy</td>\n",
       "      <td>hindi</td>\n",
       "    </tr>\n",
       "    <tr>\n",
       "      <th>50596</th>\n",
       "      <td>tt8706884</td>\n",
       "      <td>Prassthanam</td>\n",
       "      <td>2019.0</td>\n",
       "      <td>141 min</td>\n",
       "      <td>5.8</td>\n",
       "      <td>1201.0</td>\n",
       "      <td>Action, Drama</td>\n",
       "      <td>hindi</td>\n",
       "    </tr>\n",
       "  </tbody>\n",
       "</table>\n",
       "<p>23676 rows × 8 columns</p>\n",
       "</div>"
      ],
      "text/plain": [
       "              ID              Movie Name    Year Timing(min)  Rating(10)  \\\n",
       "2      tt0493437  Apna Sapna Money Money  2006.0     134 min         5.3   \n",
       "3      tt0273405          Aag Aur Sholay  1987.0         NaN         2.2   \n",
       "4      tt0049595                 Parivar  1956.0         NaN         7.4   \n",
       "6      tt6597160  Jacqueline I Am Coming  2019.0     112 min         7.9   \n",
       "7      tt0829459          A Mighty Heart  2007.0     108 min         6.6   \n",
       "...          ...                     ...     ...         ...         ...   \n",
       "50587  tt0231191        Atal Jaler Ahwan  1962.0         NaN         6.6   \n",
       "50591  tt0248201            Mudhal Thedi  1955.0     145 min         6.8   \n",
       "50592  tt6836936                   Saaho  2019.0     170 min         5.2   \n",
       "50594  tt0073191        Jai Santoshi Maa  1975.0     145 min         6.3   \n",
       "50596  tt8706884             Prassthanam  2019.0     141 min         5.8   \n",
       "\n",
       "         Votes                                  Genre Language  \n",
       "2       1892.0   Comedy, Musical, Romance                hindi  \n",
       "3         20.0                                      -     urdu  \n",
       "4         21.0      Comedy, Drama, Family                hindi  \n",
       "6         16.0                      Drama                hindi  \n",
       "7      26885.0  Biography, Drama, History                 urdu  \n",
       "...        ...                                    ...      ...  \n",
       "50587     14.0                      Drama              bengali  \n",
       "50591     12.0                                      -    tamil  \n",
       "50592  16102.0           Action, Thriller               telugu  \n",
       "50594    114.0             Drama, Fantasy                hindi  \n",
       "50596   1201.0              Action, Drama                hindi  \n",
       "\n",
       "[23676 rows x 8 columns]"
      ]
     },
     "execution_count": 37,
     "metadata": {},
     "output_type": "execute_result"
    }
   ],
   "source": [
    "movie_data_cleaned = movie_data.dropna(subset=['Year', 'Rating(10)'])\n",
    "movie_data_cleaned"
   ]
  },
  {
   "cell_type": "code",
   "execution_count": 38,
   "metadata": {},
   "outputs": [
    {
     "data": {
      "text/html": [
       "<div>\n",
       "<style scoped>\n",
       "    .dataframe tbody tr th:only-of-type {\n",
       "        vertical-align: middle;\n",
       "    }\n",
       "\n",
       "    .dataframe tbody tr th {\n",
       "        vertical-align: top;\n",
       "    }\n",
       "\n",
       "    .dataframe thead th {\n",
       "        text-align: right;\n",
       "    }\n",
       "</style>\n",
       "<table border=\"1\" class=\"dataframe\">\n",
       "  <thead>\n",
       "    <tr style=\"text-align: right;\">\n",
       "      <th></th>\n",
       "      <th>Year</th>\n",
       "      <th>Rating(10)</th>\n",
       "    </tr>\n",
       "  </thead>\n",
       "  <tbody>\n",
       "    <tr>\n",
       "      <th>0</th>\n",
       "      <td>1917.0</td>\n",
       "      <td>6.900000</td>\n",
       "    </tr>\n",
       "    <tr>\n",
       "      <th>1</th>\n",
       "      <td>1919.0</td>\n",
       "      <td>5.500000</td>\n",
       "    </tr>\n",
       "    <tr>\n",
       "      <th>2</th>\n",
       "      <td>1930.0</td>\n",
       "      <td>7.300000</td>\n",
       "    </tr>\n",
       "    <tr>\n",
       "      <th>3</th>\n",
       "      <td>1931.0</td>\n",
       "      <td>6.244444</td>\n",
       "    </tr>\n",
       "    <tr>\n",
       "      <th>4</th>\n",
       "      <td>1932.0</td>\n",
       "      <td>5.963636</td>\n",
       "    </tr>\n",
       "    <tr>\n",
       "      <th>...</th>\n",
       "      <td>...</td>\n",
       "      <td>...</td>\n",
       "    </tr>\n",
       "    <tr>\n",
       "      <th>89</th>\n",
       "      <td>2017.0</td>\n",
       "      <td>6.422439</td>\n",
       "    </tr>\n",
       "    <tr>\n",
       "      <th>90</th>\n",
       "      <td>2018.0</td>\n",
       "      <td>6.402213</td>\n",
       "    </tr>\n",
       "    <tr>\n",
       "      <th>91</th>\n",
       "      <td>2019.0</td>\n",
       "      <td>6.342140</td>\n",
       "    </tr>\n",
       "    <tr>\n",
       "      <th>92</th>\n",
       "      <td>2020.0</td>\n",
       "      <td>6.596276</td>\n",
       "    </tr>\n",
       "    <tr>\n",
       "      <th>93</th>\n",
       "      <td>2021.0</td>\n",
       "      <td>6.857025</td>\n",
       "    </tr>\n",
       "  </tbody>\n",
       "</table>\n",
       "<p>94 rows × 2 columns</p>\n",
       "</div>"
      ],
      "text/plain": [
       "      Year  Rating(10)\n",
       "0   1917.0    6.900000\n",
       "1   1919.0    5.500000\n",
       "2   1930.0    7.300000\n",
       "3   1931.0    6.244444\n",
       "4   1932.0    5.963636\n",
       "..     ...         ...\n",
       "89  2017.0    6.422439\n",
       "90  2018.0    6.402213\n",
       "91  2019.0    6.342140\n",
       "92  2020.0    6.596276\n",
       "93  2021.0    6.857025\n",
       "\n",
       "[94 rows x 2 columns]"
      ]
     },
     "execution_count": 38,
     "metadata": {},
     "output_type": "execute_result"
    }
   ],
   "source": [
    "average_rating_by_year = movie_data_cleaned.groupby('Year')['Rating(10)'].mean().reset_index()\n",
    "average_rating_by_year  "
   ]
  },
  {
   "cell_type": "markdown",
   "metadata": {},
   "source": [
    "Investigate if there are particular years or seasons where movies receive higher ratings."
   ]
  },
  {
   "cell_type": "markdown",
   "metadata": {},
   "source": [
    "1. Analyze the trend of average movie ratings over the years."
   ]
  },
  {
   "cell_type": "code",
   "execution_count": 39,
   "metadata": {},
   "outputs": [
    {
     "data": {
      "image/png": "[encoded data removed]",
      "text/plain": [
       "<Figure size 1000x600 with 1 Axes>"
      ]
     },
     "metadata": {},
     "output_type": "display_data"
    }
   ],
   "source": [
    "# Group by year and calculate the average rating\n",
    "average_rating_year = movie_data.groupby('Year')['Rating(10)'].mean().reset_index()\n",
    "\n",
    "# Plotting the trend over the years\n",
    "import matplotlib.pyplot as plt\n",
    "\n",
    "plt.figure(figsize=(10,6))\n",
    "plt.plot(average_rating_year['Year'], average_rating_year['Rating(10)'], marker='o', color='b')\n",
    "plt.title('Average Movie Ratings Over the Years')\n",
    "plt.xlabel('Year')\n",
    "plt.ylabel('Average Rating')\n",
    "plt.grid(True)\n",
    "plt.show()"
   ]
  },
  {
   "cell_type": "markdown",
   "metadata": {},
   "source": [
    "Summary\n",
    "\n",
    "The line plot shows the average movie ratings from [insert start year] to [insert end year]. Notable peaks in ratings occur in years such as [insert high rating years], likely due to successful film releases. Conversely, years with lower average ratings, like [insert low rating years], suggest fewer standout films. Overall, the trend indicates [insert general trend, e.g., \"fluctuations,\" \"steady improvement,\" or \"decline\"], reflecting changes in audience preferences over time."
   ]
  },
  {
   "cell_type": "markdown",
   "metadata": {},
   "source": [
    "2. distribution of movie ratings over the years."
   ]
  },
  {
   "cell_type": "code",
   "execution_count": 40,
   "metadata": {},
   "outputs": [
    {
     "data": {
      "image/png": "[encoded data removed]",
      "text/plain": [
       "<Figure size 1000x600 with 1 Axes>"
      ]
     },
     "metadata": {},
     "output_type": "display_data"
    }
   ],
   "source": [
    "# Distribution of ratings over time\n",
    "plt.figure(figsize=(10,6))\n",
    "sns.histplot(data=movie_data, x='Year', y='Rating(10)', bins=30, kde=True)\n",
    "plt.title('Distribution of Movie Ratings Over the Years')\n",
    "plt.xlabel('Year')\n",
    "plt.ylabel('Rating Density')\n",
    "plt.show()"
   ]
  },
  {
   "cell_type": "markdown",
   "metadata": {},
   "source": [
    "Summary\n",
    "\n",
    "The histogram displays the distribution of movie ratings over the years, revealing how ratings are spread across different release years. The KDE line indicates that most ratings cluster around [insert average rating], with noticeable peaks in years such as [insert years with high density]. This suggests that certain years produced a higher volume of well-received films, while lower-density years may reflect fewer standout releases or critical reception."
   ]
  },
  {
   "cell_type": "markdown",
   "metadata": {},
   "source": [
    "# Task 7 Visualizations:\n"
   ]
  },
  {
   "cell_type": "markdown",
   "metadata": {},
   "source": [
    "Provide relevant visualizations (histograms, bar plots, heatmaps, etc.) to support your findings.\n",
    "1. Histogram of Movie Ratings"
   ]
  },
  {
   "cell_type": "code",
   "execution_count": 41,
   "metadata": {},
   "outputs": [
    {
     "data": {
      "image/png": "[encoded data removed]",
      "text/plain": [
       "<Figure size 800x500 with 1 Axes>"
      ]
     },
     "metadata": {},
     "output_type": "display_data"
    }
   ],
   "source": [
    "plt.figure(figsize=(8, 5))\n",
    "sns.histplot(movie_data['Rating(10)'], bins=10, kde=True, color='skyblue')\n",
    "plt.title('Distribution of Movie Ratings')\n",
    "plt.xlabel('Rating (out of 10)')\n",
    "plt.ylabel('Number of Movies')\n",
    "plt.show()"
   ]
  },
  {
   "cell_type": "markdown",
   "metadata": {},
   "source": [
    "Summary\n",
    "\n",
    "The histogram shows the distribution of movie ratings on a scale of 1 to 10. Most ratings cluster around [insert average rating], indicating a tendency for films to receive moderate to high scores. There are few movies rated below [insert low rating] and above [insert high rating], suggesting overall positive audience reception."
   ]
  },
  {
   "cell_type": "markdown",
   "metadata": {},
   "source": [
    "2. Bar Plot for Average Ratings top 10 by Year"
   ]
  },
  {
   "cell_type": "code",
   "execution_count": 42,
   "metadata": {},
   "outputs": [
    {
     "name": "stderr",
     "output_type": "stream",
     "text": [
      "C:\\Users\\ADMIN\\AppData\\Local\\Temp\\ipykernel_9360\\4224846331.py:5: FutureWarning: \n",
      "\n",
      "Passing `palette` without assigning `hue` is deprecated and will be removed in v0.14.0. Assign the `x` variable to `hue` and set `legend=False` for the same effect.\n",
      "\n",
      "  sns.barplot(x='Year', y='Rating(10)', data=top_10_years, palette='coolwarm')\n"
     ]
    },
    {
     "data": {
      "image/png": "[encoded data removed]",
      "text/plain": [
       "<Figure size 1000x600 with 1 Axes>"
      ]
     },
     "metadata": {},
     "output_type": "display_data"
    }
   ],
   "source": [
    "top_10_years = average_rating_year.sort_values(by='Rating(10)', ascending=False).head(10)\n",
    "\n",
    "# Plotting the top 10 years with the highest average ratings\n",
    "plt.figure(figsize=(10,6))\n",
    "sns.barplot(x='Year', y='Rating(10)', data=top_10_years, palette='coolwarm')\n",
    "plt.title('Top 10 Years with Highest Average Movie Ratings')\n",
    "plt.xlabel('Year')\n",
    "plt.ylabel('Average Rating')\n",
    "plt.xticks(rotation=45)\n",
    "plt.show()"
   ]
  },
  {
   "cell_type": "markdown",
   "metadata": {},
   "source": [
    "Summary\n",
    "\n",
    "This bar plot highlights the top 10 years with the highest average movie ratings. The data indicates that the years [insert specific years] achieved the highest ratings, reflecting a period of exceptional film quality or significant releases. These standout years may have been influenced by major films, shifts in audience preferences, or other industry trends contributing to higher overall satisfaction."
   ]
  },
  {
   "cell_type": "markdown",
   "metadata": {},
   "source": [
    "3. Scatter Plot for top 5 most popular Genre"
   ]
  },
  {
   "cell_type": "code",
   "execution_count": 43,
   "metadata": {},
   "outputs": [
    {
     "data": {
      "image/png": "[encoded data removed]",
      "text/plain": [
       "<Figure size 1000x600 with 1 Axes>"
      ]
     },
     "metadata": {},
     "output_type": "display_data"
    }
   ],
   "source": [
    "# Find the top 5 genres with the most movies\n",
    "top_genres = movie_data['Genre'].value_counts().head(5).index\n",
    "\n",
    "# Filter the dataset for these top genres\n",
    "top_genre_movies = movie_data[movie_data['Genre'].isin(top_genres)]\n",
    "\n",
    "# Plot the scatter plot with only the top genres\n",
    "plt.figure(figsize=(10,6))\n",
    "sns.scatterplot(x='Votes', y='Rating(10)', data=top_genre_movies, hue='Genre', palette='bright')\n",
    "plt.title('Votes vs. Rating (Top 5 Genres)')\n",
    "plt.xlabel('Votes')\n",
    "plt.ylabel('Rating')\n",
    "plt.show()"
   ]
  },
  {
   "cell_type": "markdown",
   "metadata": {},
   "source": [
    "Summary\n",
    "\n",
    "The scatter plot shows the relationship between votes and ratings for the top five genres. Higher vote counts generally correlate with better ratings, particularly in genres like [insert top genre]. This suggests that popular films tend to be more favorably received by audiences."
   ]
  },
  {
   "cell_type": "markdown",
   "metadata": {},
   "source": [
    "4. Heatmap of Correlations (including more columns)"
   ]
  },
  {
   "cell_type": "code",
   "execution_count": 44,
   "metadata": {},
   "outputs": [
    {
     "data": {
      "image/png": "[encoded data removed]",
      "text/plain": [
       "<Figure size 800x600 with 2 Axes>"
      ]
     },
     "metadata": {},
     "output_type": "display_data"
    }
   ],
   "source": [
    "movie_data['Timing(min)'] = movie_data['Timing(min)'].str.replace(',', '', regex=False).str.replace(' min', '', regex=False).astype(float)\n",
    "\n",
    "# Now calculate the correlation matrix again\n",
    "numerical_columns = ['Rating(10)', 'Votes', 'Timing(min)']\n",
    "\n",
    "# Calculate the correlation matrix\n",
    "corr_matrix = movie_data[numerical_columns].corr()\n",
    "\n",
    "# Create the heatmap\n",
    "plt.figure(figsize=(8, 6))\n",
    "sns.heatmap(corr_matrix, annot=True, cmap='Blues', linewidths=0.5, linecolor='white', square=True)\n",
    "plt.title('Correlation Heatmap Between Numerical Features', fontsize=15)\n",
    "plt.show()"
   ]
  },
  {
   "cell_type": "markdown",
   "metadata": {},
   "source": [
    "Summary\n",
    "\n",
    "The heatmap displays the correlation between numerical features: Rating, Votes, and Timing. Strong positive correlations are observed between Votes and Rating, suggesting that films with more votes tend to receive higher ratings. The correlation between Timing and the other variables is relatively weak, indicating that movie length does not significantly influence audience ratings or vote counts."
   ]
  },
  {
   "cell_type": "markdown",
   "metadata": {},
   "source": [
    "Visualize trends such as the distribution of ratings across different genres or user demographics."
   ]
  },
  {
   "cell_type": "markdown",
   "metadata": {},
   "source": [
    "1. top 10 genres by average ratings "
   ]
  },
  {
   "cell_type": "code",
   "execution_count": 45,
   "metadata": {},
   "outputs": [
    {
     "name": "stderr",
     "output_type": "stream",
     "text": [
      "C:\\Users\\ADMIN\\AppData\\Local\\Temp\\ipykernel_9360\\385440878.py:8: FutureWarning: \n",
      "\n",
      "Passing `palette` without assigning `hue` is deprecated and will be removed in v0.14.0. Assign the `x` variable to `hue` and set `legend=False` for the same effect.\n",
      "\n",
      "  sns.barplot(x=top_10_genres.index, y=top_10_genres.values, palette='viridis')\n"
     ]
    },
    {
     "data": {
      "image/png": "[encoded data removed]",
      "text/plain": [
       "<Figure size 1000x600 with 1 Axes>"
      ]
     },
     "metadata": {},
     "output_type": "display_data"
    }
   ],
   "source": [
    "avg_rating_by_genre = movie_data.groupby('Genre')['Rating(10)'].mean().sort_values(ascending=False)\n",
    "\n",
    "# Select only the top 10 genres\n",
    "top_10_genres = avg_rating_by_genre.head(10)\n",
    "\n",
    "# Plot the top 10 genres by average ratings\n",
    "plt.figure(figsize=(10, 6))\n",
    "sns.barplot(x=top_10_genres.index, y=top_10_genres.values, palette='viridis')\n",
    "\n",
    "# Add title and labels\n",
    "plt.title('Top 10 Genres by Average Ratings', fontsize=15)\n",
    "plt.xlabel('Genre', fontsize=12)\n",
    "plt.ylabel('Average Rating (out of 10)', fontsize=12)\n",
    "plt.xticks(rotation=45, ha='right')\n",
    "plt.tight_layout()\n",
    "plt.show()"
   ]
  },
  {
   "cell_type": "markdown",
   "metadata": {},
   "source": [
    "Summary\n",
    "\n",
    "This bar plot presents the top 10 movie genres ranked by average ratings. Genres such as [insert top genres] lead the list, indicating a strong audience preference and satisfaction. In contrast, genres with lower average ratings, like [insert lower-rated genres], suggest varying levels of appeal and critical reception. This analysis highlights how genre influences viewer ratings in the dataset."
   ]
  },
  {
   "cell_type": "markdown",
   "metadata": {},
   "source": [
    "# Task 8 Conclusion:\n"
   ]
  },
  {
   "cell_type": "markdown",
   "metadata": {},
   "source": [
    "Suggest areas for further analysis or recommendations for improving user engagement based on the insights."
   ]
  },
  {
   "cell_type": "markdown",
   "metadata": {},
   "source": [
    "1. Curated Genre Recommendations"
   ]
  },
  {
   "cell_type": "markdown",
   "metadata": {},
   "source": [
    "A. Develop personalized movie recommendations tailored to user ratings and preferences.\n"
   ]
  },
  {
   "cell_type": "markdown",
   "metadata": {},
   "source": [
    "B. Highlight high-rated genres and trending films to enhance user satisfaction and retention."
   ]
  },
  {
   "cell_type": "markdown",
   "metadata": {},
   "source": [
    "2. Interactive Features:"
   ]
  },
  {
   "cell_type": "markdown",
   "metadata": {},
   "source": [
    "A. Implement filters that allow users to easily browse movies by genre, rating, or release year."
   ]
  },
  {
   "cell_type": "markdown",
   "metadata": {},
   "source": [
    "B. Consider adding sorting options (e.g., by popularity or highest ratings) to improve the overall browsing experience."
   ]
  },
  {
   "cell_type": "markdown",
   "metadata": {},
   "source": [
    "3. Engagement Campaigns"
   ]
  },
  {
   "cell_type": "markdown",
   "metadata": {},
   "source": [
    "A. Organize themed watch parties for popular genres or high-rated films to create a sense of community."
   ]
  },
  {
   "cell_type": "markdown",
   "metadata": {},
   "source": [
    "B. Facilitate discussions or forums around these films to encourage user interaction and sharing of insights."
   ]
  },
  {
   "cell_type": "markdown",
   "metadata": {},
   "source": [
    "# Project Summary:\n",
    "\n",
    "\n",
    "The purpose of this project was to analyze a dataset of movie ratings to uncover insights about audience preferences, rating trends, and genre popularity. Through data cleaning, visualization, and analysis, we aimed to better understand how factors like release year, genre, and user votes influence movie ratings. By exploring patterns in the data, we gained valuable insights into which genres receive the highest ratings, how ratings fluctuate over time, and the correlation between user engagement and movie success. This analysis provided a clearer picture of audience behavior, enabling data-driven recommendations for improving user experience and engagement on movie platforms."
   ]
  },
  {
   "cell_type": "code",
   "execution_count": null,
   "metadata": {},
   "outputs": [],
   "source": []
  },
  {
   "cell_type": "code",
   "execution_count": null,
   "metadata": {},
   "outputs": [],
   "source": []
  },
  {
   "cell_type": "code",
   "execution_count": null,
   "metadata": {},
   "outputs": [],
   "source": []
  },
  {
   "cell_type": "code",
   "execution_count": null,
   "metadata": {},
   "outputs": [],
   "source": []
  },
  {
   "cell_type": "code",
   "execution_count": null,
   "metadata": {},
   "outputs": [],
   "source": []
  },
  {
   "cell_type": "code",
   "execution_count": null,
   "metadata": {},
   "outputs": [],
   "source": []
  },
  {
   "cell_type": "code",
   "execution_count": null,
   "metadata": {},
   "outputs": [],
   "source": []
  },
  {
   "cell_type": "code",
   "execution_count": null,
   "metadata": {},
   "outputs": [],
   "source": []
  },
  {
   "cell_type": "code",
   "execution_count": null,
   "metadata": {},
   "outputs": [],
   "source": []
  }
 ],
 "metadata": {
  "kernelspec": {
   "display_name": "Python 3",
   "language": "python",
   "name": "python3"
  },
  "language_info": {
   "codemirror_mode": {
    "name": "ipython",
    "version": 3
   },
   "file_extension": ".py",
   "mimetype": "text/x-python",
   "name": "python",
   "nbconvert_exporter": "python",
   "pygments_lexer": "ipython3",
   "version": "3.12.6"
  }
 },
 "nbformat": 4,
 "nbformat_minor": 2
}
